{
 "cells": [
  {
   "cell_type": "markdown",
   "id": "6a6c3649",
   "metadata": {},
   "source": [
    "## ASCII Art Encoding\n",
    "\n",
    "Write a function \"encodeString\" that will encode a string like 'AAAAABBBBAAA' as a list of tuples: [('A', 5), ('B', 4), ('A', 3)] meaning that the string has \"5 A's, followed by 4 B's, followed by 3 A's\"\n",
    "\n",
    "Then use that function to compress a string containing \"ASCII Art\" (https://en.wikipedia.org/wiki/ASCII_art)\n",
    "\n",
    "Write a corresponding function \"decodeString\" that will take in a list of tuples and print the original string.\n"
   ]
  },
  {
   "cell_type": "markdown",
   "id": "47490f41",
   "metadata": {},
   "source": [
    "### Challenge Hints!"
   ]
  },
  {
   "cell_type": "markdown",
   "id": "a8c64bd5",
   "metadata": {},
   "source": [
    "**Hint 1:** While iterating through each character of a string, we can print out when a string has \"switched\" from one character to another:"
   ]
  },
  {
   "cell_type": "code",
   "execution_count": 151,
   "id": "c3d70033",
   "metadata": {},
   "outputs": [
    {
     "name": "stdout",
     "output_type": "stream",
     "text": [
      "New character is A\n",
      "New character is B\n",
      "New character is C\n"
     ]
    }
   ],
   "source": [
    "stringVal = 'AAAAABBBBBCCCCC'\n",
    "\n",
    "prevChar = None\n",
    "for char in stringVal:\n",
    "    if char != prevChar:\n",
    "        print(f'New character is {char}')\n",
    "    prevChar = char"
   ]
  },
  {
   "cell_type": "code",
   "execution_count": 155,
   "id": "21bb1f13",
   "metadata": {},
   "outputs": [
    {
     "name": "stdout",
     "output_type": "stream",
     "text": [
      "New character is B\n",
      "number of B  is  5\n",
      "New character is C\n",
      "number of C  is  5\n"
     ]
    }
   ],
   "source": [
    "stringVal = 'AAAAABBBBBCCCCC'\n",
    "\n",
    "encodedList = []\n",
    "prevChar = stringVal[0]\n",
    "count = 0\n",
    "for char in stringVal:\n",
    "    if prevChar != char:\n",
    "        #encodedList.append((prevChar, count))\n",
    "        print(f'New character is {char}')\n",
    "        print(f'number of',char,' is ',count)\n",
    "        count = 0\n",
    "    prevChar = char\n",
    "    count = count + 1"
   ]
  },
  {
   "cell_type": "code",
   "execution_count": 157,
   "id": "7054d874",
   "metadata": {},
   "outputs": [
    {
     "name": "stdout",
     "output_type": "stream",
     "text": [
      "A\n",
      "New character is B\n",
      "count of  A is 2\n",
      "New character is C\n",
      "count of  B is 3\n",
      "New character is D\n",
      "count of  C is 5\n"
     ]
    },
    {
     "data": {
      "text/plain": [
       "{'B': 2, 'C': 3, 'D': 5}"
      ]
     },
     "execution_count": 157,
     "metadata": {},
     "output_type": "execute_result"
    }
   ],
   "source": [
    "stringVal = 'AABBBCCCCCD'\n",
    "\n",
    "\n",
    "prevChar = None\n",
    "numberArray = {}\n",
    "numberList = set()\n",
    "\n",
    "prevChar = stringVal[0]\n",
    "print(prevChar)\n",
    "count = 0\n",
    "for char in stringVal:\n",
    "    if char != prevChar:\n",
    "        print(f'New character is {char}')\n",
    "        print('count of ',prevChar,'is', count)\n",
    "        numberList = [(char,count)]\n",
    "        numberArray[char] = count\n",
    "        count = 0\n",
    "    prevChar = char\n",
    "    count = count + 1\n",
    "\n",
    "#    stringArray = {key:value for }\n",
    "numberArray"
   ]
  },
  {
   "cell_type": "code",
   "execution_count": 160,
   "id": "6a0ce75f",
   "metadata": {},
   "outputs": [
    {
     "data": {
      "text/plain": [
       "{'B': 3, 'C': 5, 'D': 1, 'A': 2}"
      ]
     },
     "execution_count": 160,
     "metadata": {},
     "output_type": "execute_result"
    }
   ],
   "source": [
    "stringVal = 'AABBBCCCCCD'\n",
    "\n",
    "for char in stringVal:\n",
    "    if prevChar != char:\n",
    "        encodedList.append((prevChar, count))\n",
    "        numberArray[prevChar] = count\n",
    "        count = 0\n",
    "    prevChar = char\n",
    "    count = count + 1\n",
    "\n",
    "numberArray"
   ]
  },
  {
   "cell_type": "code",
   "execution_count": 133,
   "id": "36bdfc88",
   "metadata": {},
   "outputs": [
    {
     "name": "stdout",
     "output_type": "stream",
     "text": [
      "A\n",
      "there are now 1 A\n",
      "New character is A\n",
      "count of  A is 1\n",
      "A\n",
      "there are now 2 A\n",
      "New character is A\n",
      "count of  A is 2\n",
      "A\n",
      "there are now 3 A\n",
      "New character is A\n",
      "count of  A is 3\n",
      "A\n",
      "there are now 4 A\n",
      "New character is A\n",
      "count of  A is 4\n",
      "A\n",
      "there are now 5 A\n",
      "New character is A\n",
      "count of  A is 5\n",
      "B\n",
      "there are now 6 B\n",
      "New character is B\n",
      "count of  B is 6\n",
      "B\n",
      "there are now 7 B\n",
      "New character is B\n",
      "count of  B is 7\n",
      "B\n",
      "there are now 8 B\n",
      "New character is B\n",
      "count of  B is 8\n",
      "B\n",
      "there are now 9 B\n",
      "New character is B\n",
      "count of  B is 9\n",
      "B\n",
      "there are now 10 B\n",
      "New character is B\n",
      "count of  B is 10\n",
      "C\n",
      "there are now 11 C\n",
      "New character is C\n",
      "count of  C is 11\n",
      "C\n",
      "there are now 12 C\n",
      "New character is C\n",
      "count of  C is 12\n",
      "C\n",
      "there are now 13 C\n",
      "New character is C\n",
      "count of  C is 13\n",
      "C\n",
      "there are now 14 C\n",
      "New character is C\n",
      "count of  C is 14\n",
      "C\n",
      "there are now 15 C\n",
      "New character is C\n",
      "count of  C is 15\n"
     ]
    }
   ],
   "source": [
    "stringVal = 'AAAAABBBBBCCCCC'\n",
    "count = 0\n",
    "for char in stringVal:\n",
    "    print(char)\n",
    "    count = count +1\n",
    "    print('there are now', count, char)\n",
    "    if char != prevChar:\n",
    "        print(f'New character is {char}')\n",
    "        print('count of ',char,'is', count)\n"
   ]
  },
  {
   "cell_type": "markdown",
   "id": "54ce72f7",
   "metadata": {},
   "source": [
    "**Hint 2:** Remember that you can multiply a string by a number!"
   ]
  },
  {
   "cell_type": "code",
   "execution_count": null,
   "id": "a074b94e",
   "metadata": {},
   "outputs": [],
   "source": []
  },
  {
   "cell_type": "code",
   "execution_count": 2,
   "id": "7ab4bd96",
   "metadata": {},
   "outputs": [
    {
     "data": {
      "text/plain": [
       "'AAAAA'"
      ]
     },
     "execution_count": 2,
     "metadata": {},
     "output_type": "execute_result"
    }
   ],
   "source": [
    "'A'*5"
   ]
  },
  {
   "cell_type": "code",
   "execution_count": 164,
   "id": "6e9144fd",
   "metadata": {},
   "outputs": [],
   "source": [
    "stringVal = 'AAAAABBBCCCCCD'\n",
    "numberArray = {}\n",
    "numberList = []\n",
    "def encodeString(stringVal):\n",
    "    #global count \n",
    "    count = 0\n",
    "    prevChar = None\n",
    "    numberArray = {}\n",
    "    numberList = []\n",
    "    for char in stringVal:\n",
    "        if char != prevChar:\n",
    "            print(f'New character is {char}')\n",
    "            print('count of ',char,'is', count)\n",
    "            numberList.append((char,count))\n",
    "            numberArray[char] = count\n",
    "            count = 0\n",
    "        prevChar = char\n",
    "        count = count + 1\n",
    "\n",
    "    #    stringArray = {key:value for }\n",
    "    return numberList\n",
    "\n",
    "\n",
    "#encodeString(stringVal)\n"
   ]
  },
  {
   "cell_type": "code",
   "execution_count": 165,
   "id": "3f751bf4",
   "metadata": {},
   "outputs": [
    {
     "name": "stdout",
     "output_type": "stream",
     "text": [
      "New character is A\n",
      "count of  A is 0\n",
      "New character is B\n",
      "count of  B is 5\n",
      "New character is C\n",
      "count of  C is 3\n",
      "New character is D\n",
      "count of  D is 5\n"
     ]
    }
   ],
   "source": [
    "stringVal = 'AAAAABBBCCCCCD'\n",
    "count = 0\n",
    "prevChar = None\n",
    "numberArray = {}\n",
    "numberList = []\n",
    "for char in stringVal:\n",
    "    if char != prevChar:\n",
    "        print(f'New character is {char}')\n",
    "        print('count of ',char,'is', count)\n",
    "        numberList.append((char,count))\n",
    "        numberArray[char] = count\n",
    "        count = 0\n",
    "    prevChar = char\n",
    "    count = count + 1"
   ]
  },
  {
   "cell_type": "code",
   "execution_count": 170,
   "id": "312bedcf",
   "metadata": {},
   "outputs": [
    {
     "name": "stdout",
     "output_type": "stream",
     "text": [
      "count of  A is 5\n",
      "count of  B is 3\n",
      "count of  C is 5\n",
      "count of  D is 1\n"
     ]
    },
    {
     "data": {
      "text/plain": [
       "[('A', 5), ('B', 3), ('C', 5), ('D', 1)]"
      ]
     },
     "execution_count": 170,
     "metadata": {},
     "output_type": "execute_result"
    }
   ],
   "source": [
    "stringVal = 'AAAAABBBCCCCCD'\n",
    "encodedListList = []\n",
    "encodedList = []\n",
    "prevChar = stringVal[0]\n",
    "count = 0\n",
    "for char in stringVal:\n",
    "    if prevChar != char:\n",
    "        print('count of ',prevChar,'is', count)\n",
    "        encodedList.append((prevChar, count))\n",
    "        count = 0\n",
    "    prevChar = char\n",
    "    count = count + 1\n",
    "\n",
    "encodedList.append((prevChar, count))\n",
    "print('count of ',prevChar,'is', count)\n",
    "\n",
    "encodedList"
   ]
  },
  {
   "cell_type": "code",
   "execution_count": 7,
   "id": "7777d38e",
   "metadata": {},
   "outputs": [],
   "source": [
    "def encodeString(stringVal):\n",
    "    pass\n",
    "\n",
    "def decodeString(encodedList):\n",
    "    pass"
   ]
  },
  {
   "cell_type": "code",
   "execution_count": 4,
   "id": "3eee6256",
   "metadata": {},
   "outputs": [],
   "source": [
    "art = '''\n",
    "\n",
    "                                                                                \n",
    "                                                                                \n",
    "                               %%%%%%%%%%%%%%%%%%%                              \n",
    "                        %%%%%%%%%%%%%%%%%%%%%%%%%%%%%%%%%                       \n",
    "                    %%%%%%%%                         %%%%%%%%                   \n",
    "                %%%%%%%                                   %%%%%%                \n",
    "              %%%%%%                                         %%%%%%             \n",
    "           %%%%%%                                               %%%%%           \n",
    "          %%%%%                                                   %%%%%         \n",
    "        %%%%%                                                       %%%%%       \n",
    "       %%%%                 %%%%%              %%%%%                  %%%%      \n",
    "      %%%%                 %%%%%%%            %%%%%%%                  %%%%     \n",
    "     %%%%                  %%%%%%%            %%%%%%%                   %%%%    \n",
    "    %%%%                   %%%%%%%            %%%%%%%                    %%%%   \n",
    "    %%%%                    %%%%%              %%%%%                     %%%%   \n",
    "   %%%%                                                                   %%%%  \n",
    "   %%%%                                                                   %%%%  \n",
    "   %%%%                                                                   %%%%  \n",
    "   %%%%                                                      %%%%        %%%%   \n",
    "    %%%%       %%%%%%                                        %%%%%       %%%%   \n",
    "    %%%%         %%%%                                       %%%%        %%%%    \n",
    "     %%%%         %%%%                                     %%%%         %%%%    \n",
    "      %%%%         %%%%%                                  %%%%         %%%%     \n",
    "       %%%%%         %%%%%                             %%%%%         %%%%%      \n",
    "        %%%%%          %%%%%%                        %%%%%          %%%%        \n",
    "          %%%%%           %%%%%%%               %%%%%%%           %%%%%         \n",
    "            %%%%%             %%%%%%%%%%%%%%%%%%%%%             %%%%%           \n",
    "              %%%%%%%                                        %%%%%              \n",
    "                 %%%%%%%                                 %%%%%%%                \n",
    "                     %%%%%%%%%                     %%%%%%%%%                    \n",
    "                          %%%%%%%%%%%%%%%%%%%%%%%%%%%%%                         \n",
    "                                   %%%%%%%%%%%%                                 \n",
    "                                                                                \n",
    "                                                                                 \n",
    "\n",
    "'''"
   ]
  },
  {
   "cell_type": "code",
   "execution_count": 5,
   "id": "dec27033",
   "metadata": {},
   "outputs": [],
   "source": [
    "encodedString = encodeString(art)"
   ]
  },
  {
   "cell_type": "code",
   "execution_count": 6,
   "id": "942d4ff8",
   "metadata": {},
   "outputs": [],
   "source": [
    "decodeString(encodedString)"
   ]
  },
  {
   "cell_type": "code",
   "execution_count": null,
   "id": "e1485f53",
   "metadata": {},
   "outputs": [],
   "source": []
  }
 ],
 "metadata": {
  "kernelspec": {
   "display_name": "Python 3.10.4 64-bit",
   "language": "python",
   "name": "python3"
  },
  "language_info": {
   "codemirror_mode": {
    "name": "ipython",
    "version": 3
   },
   "file_extension": ".py",
   "mimetype": "text/x-python",
   "name": "python",
   "nbconvert_exporter": "python",
   "pygments_lexer": "ipython3",
   "version": "3.8.10"
  },
  "vscode": {
   "interpreter": {
    "hash": "949777d72b0d2535278d3dc13498b2535136f6dfe0678499012e853ee9abcab1"
   }
  }
 },
 "nbformat": 4,
 "nbformat_minor": 5
}
